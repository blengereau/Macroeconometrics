{
 "cells": [
  {
   "cell_type": "markdown",
   "metadata": {},
   "source": [
    "# Import"
   ]
  },
  {
   "cell_type": "code",
   "execution_count": 34,
   "metadata": {},
   "outputs": [],
   "source": [
    "import numpy as np\n",
    "import pandas as pd\n",
    "import matplotlib.pyplot as plt\n",
    "import seaborn as sns\n",
    "\n",
    "from sklearn.model_selection import train_test_split\n",
    "from sklearn.preprocessing import StandardScaler\n",
    "from sklearn.metrics import confusion_matrix, classification_report, accuracy_score, precision_score, recall_score, f1_score\n",
    "from sklearn.linear_model import LogisticRegression\n",
    "\n",
    "import statsmodels.api as sm\n",
    "\n",
    "import contextlib\n",
    "from src.preprocessing import apply_transformation"
   ]
  },
  {
   "cell_type": "markdown",
   "metadata": {},
   "source": [
    "# Data & PCA factors"
   ]
  },
  {
   "cell_type": "code",
   "execution_count": 35,
   "metadata": {},
   "outputs": [],
   "source": [
    "# FRED\n",
    "fred_md = pd.read_csv(\"data/fred_md_2024_12.csv\")\n",
    "fred_md_short = (\n",
    "    fred_md.iloc[1:]\n",
    "    .assign(sasdate=pd.to_datetime(fred_md.iloc[1:].sasdate, format=\"%m/%d/%Y\"))\n",
    "    .set_index(\"sasdate\")\n",
    ")\n",
    "fred_info = pd.read_csv(\"data/FRED_MD_updated_appendix.csv\", encoding=\"latin1\")\n",
    "\n",
    "start_date, end_date = \"1960\", \"2024\"\n",
    "\n",
    "for _, row in fred_info.iterrows():\n",
    "    series_name = row['fred']\n",
    "    transformation_code = row['tcode']\n",
    "\n",
    "    # Apply appropriate transformation to fred df\n",
    "    with contextlib.suppress(Exception):\n",
    "        fred_md_short[series_name] = apply_transformation(fred_md_short[series_name], transformation_code)\n",
    "\n",
    "fred_md_short = fred_md_short[\n",
    "    (fred_md_short.index >= start_date) & (fred_md_short.index <= end_date)\n",
    "].dropna(axis=1)\n",
    "\n",
    "# RECESSION\n",
    "us_rec = pd.read_csv(\"data/USREC.csv\")\n",
    "us_rec = us_rec.assign(\n",
    "    observation_date=pd.to_datetime(us_rec.observation_date)\n",
    "    ).set_index(\"observation_date\")\n",
    "us_rec = us_rec.loc[fred_md_short.index,:]\n",
    "\n",
    "# Sparse factors\n",
    "factors = pd.read_csv('data/Static_factor/estimated_factor.csv')\n",
    "factors = factors.assign(sasdate=pd.to_datetime(factors.sasdate)).set_index(\"sasdate\")"
   ]
  },
  {
   "cell_type": "markdown",
   "metadata": {},
   "source": [
    "# Model Estimation"
   ]
  },
  {
   "cell_type": "code",
   "execution_count": 36,
   "metadata": {},
   "outputs": [],
   "source": [
    "factors_lagged = factors.shift(1).dropna()\n",
    "\n",
    "common_index = factors_lagged.index.intersection(us_rec.index)\n",
    "y = us_rec.loc[common_index]"
   ]
  },
  {
   "cell_type": "code",
   "execution_count": 37,
   "metadata": {},
   "outputs": [
    {
     "name": "stdout",
     "output_type": "stream",
     "text": [
      "Number of selected PCA components: 10\n"
     ]
    }
   ],
   "source": [
    "X_train, X_test, y_train, y_test = train_test_split(factors_lagged, y, test_size=0.2, random_state=42, stratify=y)\n",
    "\n",
    "logit_model = LogisticRegression(solver='liblinear', class_weight='balanced', penalty='l1', max_iter=1000)\n",
    "logit_model.fit(X_train, y_train.values.ravel())\n",
    "coefficients = logit_model.coef_[0]\n",
    "selected_pca_features = np.where(coefficients != 0)[0]\n",
    "print(\"Number of selected PCA components:\", len(selected_pca_features))"
   ]
  },
  {
   "cell_type": "markdown",
   "metadata": {},
   "source": [
    "# Results"
   ]
  },
  {
   "cell_type": "code",
   "execution_count": 38,
   "metadata": {},
   "outputs": [
    {
     "data": {
      "image/png": "[encoded data removed]",
      "text/plain": [
       "<Figure size 600x400 with 2 Axes>"
      ]
     },
     "metadata": {},
     "output_type": "display_data"
    },
    {
     "name": "stdout",
     "output_type": "stream",
     "text": [
      "Logit estimated with Bayesian Sparse Factors:\n",
      "               precision    recall  f1-score   support\n",
      "\n",
      "           0       0.98      0.93      0.95       135\n",
      "           1       0.63      0.89      0.74        19\n",
      "\n",
      "    accuracy                           0.92       154\n",
      "   macro avg       0.81      0.91      0.85       154\n",
      "weighted avg       0.94      0.92      0.93       154\n",
      "\n"
     ]
    }
   ],
   "source": [
    "y_pred = logit_model.predict(X_test)\n",
    "\n",
    "\n",
    "# Confusion matrix\n",
    "plt.figure(figsize=(6, 4))\n",
    "conf_matrix = confusion_matrix(y_test, y_pred)\n",
    "sns.heatmap(conf_matrix, annot=True, fmt=\"d\", cmap=\"Blues\", xticklabels=[\"No Recession\", \"Recession\"], yticklabels=[\"No Recession\", \"Recession\"])\n",
    "plt.xlabel(\"Predicted\")\n",
    "plt.ylabel(\"Actual\")\n",
    "plt.title(\"Confusion Matrix with sparse factors\")\n",
    "plt.show()\n",
    "\n",
    "# Metrics\n",
    "print(\"Logit estimated with Bayesian Sparse Factors:\\n\", classification_report(y_test, y_pred))"
   ]
  }
 ],
 "metadata": {
  "kernelspec": {
   "display_name": "CodeEcon",
   "language": "python",
   "name": "python3"
  },
  "language_info": {
   "codemirror_mode": {
    "name": "ipython",
    "version": 3
   },
   "file_extension": ".py",
   "mimetype": "text/x-python",
   "name": "python",
   "nbconvert_exporter": "python",
   "pygments_lexer": "ipython3",
   "version": "3.10.6"
  }
 },
 "nbformat": 4,
 "nbformat_minor": 2
}
